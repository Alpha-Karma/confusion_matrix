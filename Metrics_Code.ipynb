{
 "cells": [
  {
   "cell_type": "code",
   "execution_count": null,
   "id": "af14fa3e",
   "metadata": {},
   "outputs": [],
   "source": [
    "\n",
    "# Imports necessários\n",
    "import numpy as np\n",
    "from sklearn.metrics import confusion_matrix, accuracy_score, precision_score, recall_score, f1_score\n",
    "import seaborn as sns\n",
    "import matplotlib.pyplot as plt\n"
   ]
  },
  {
   "cell_type": "code",
   "execution_count": null,
   "id": "73a5b64a",
   "metadata": {},
   "outputs": [],
   "source": [
    "\n",
    "# Exemplo de dados reais (y_true) e preditos (y_pred)\n",
    "y_true = [0,0,1,1,2,2,2,1,0,1,2,0,1,2,0]\n",
    "y_pred = [0,0,1,0,2,2,1,1,0,1,2,0,2,2,0]\n"
   ]
  },
  {
   "cell_type": "code",
   "execution_count": null,
   "id": "297e7385",
   "metadata": {},
   "outputs": [],
   "source": [
    "\n",
    "# Criando a matriz de confusão\n",
    "cm = confusion_matrix(y_true, y_pred)\n",
    "\n",
    "# Visualização da matriz de confusão\n",
    "plt.figure(figsize=(6,4))\n",
    "sns.heatmap(cm, annot=True, fmt=\"d\", cmap=\"Blues\",\n",
    "            xticklabels=[\"Classe 0\",\"Classe 1\",\"Classe 2\"],\n",
    "            yticklabels=[\"Classe 0\",\"Classe 1\",\"Classe 2\"])\n",
    "plt.xlabel(\"Previsto\")\n",
    "plt.ylabel(\"Real\")\n",
    "plt.title(\"Matriz de Confusão\")\n",
    "plt.show()\n",
    "\n",
    "cm\n"
   ]
  },
  {
   "cell_type": "code",
   "execution_count": null,
   "id": "a2f830b9",
   "metadata": {},
   "outputs": [],
   "source": [
    "\n",
    "# Cálculo das métricas\n",
    "acuracia = accuracy_score(y_true, y_pred)\n",
    "precisao = precision_score(y_true, y_pred, average='macro')\n",
    "recall = recall_score(y_true, y_pred, average='macro')\n",
    "f1 = f1_score(y_true, y_pred, average='macro')\n",
    "\n",
    "# Especificidade média (One-vs-All)\n",
    "especificidades = []\n",
    "for i in range(cm.shape[0]):\n",
    "    VN = cm.sum() - (cm[i,:].sum() + cm[:,i].sum() - cm[i,i])\n",
    "    FP = cm[:,i].sum() - cm[i,i]\n",
    "    especificidades.append(VN / (VN + FP))\n",
    "especificidade_media = np.mean(especificidades)\n",
    "\n",
    "# Exibir resultados\n",
    "print(f\"Acurácia: {acuracia:.2f}\")\n",
    "print(f\"Precisão: {precisao:.2f}\")\n",
    "print(f\"Recall (Sensibilidade): {recall:.2f}\")\n",
    "print(f\"Especificidade (média): {especificidade_media:.2f}\")\n",
    "print(f\"F1-Score: {f1:.2f}\")\n"
   ]
  }
 ],
 "metadata": {},
 "nbformat": 4,
 "nbformat_minor": 5
}
